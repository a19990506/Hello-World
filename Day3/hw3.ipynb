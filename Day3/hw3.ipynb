{
 "cells": [
  {
   "cell_type": "code",
   "execution_count": 1,
   "metadata": {},
   "outputs": [],
   "source": [
    "import pandas as pd\n",
    "from mlxtend.preprocessing import TransactionEncoder\n",
    "from mlxtend.frequent_patterns import apriori\n",
    "from mlxtend.frequent_patterns import association_rules"
   ]
  },
  {
   "cell_type": "code",
   "execution_count": 4,
   "metadata": {},
   "outputs": [
    {
     "data": {
      "text/html": [
       "<div>\n",
       "<style scoped>\n",
       "    .dataframe tbody tr th:only-of-type {\n",
       "        vertical-align: middle;\n",
       "    }\n",
       "\n",
       "    .dataframe tbody tr th {\n",
       "        vertical-align: top;\n",
       "    }\n",
       "\n",
       "    .dataframe thead th {\n",
       "        text-align: right;\n",
       "    }\n",
       "</style>\n",
       "<table border=\"1\" class=\"dataframe\">\n",
       "  <thead>\n",
       "    <tr style=\"text-align: right;\">\n",
       "      <th></th>\n",
       "      <th>docClass</th>\n",
       "      <th>classID</th>\n",
       "      <th>className</th>\n",
       "      <th>docTitle</th>\n",
       "      <th>docs</th>\n",
       "    </tr>\n",
       "  </thead>\n",
       "  <tbody>\n",
       "    <tr>\n",
       "      <th>0</th>\n",
       "      <td>環保</td>\n",
       "      <td>148513668543221</td>\n",
       "      <td>地球公民基金會</td>\n",
       "      <td>\"【12/26 為下一代而走 反空污、抗暖化大遊行】\\n</td>\n",
       "      <td>今天 早上 ， 我們 與 台灣 健康 空氣 行動 聯盟 的 夥伴 一起 到 總統府 前開 記...</td>\n",
       "    </tr>\n",
       "    <tr>\n",
       "      <th>1</th>\n",
       "      <td>環保</td>\n",
       "      <td>148513668543221</td>\n",
       "      <td>地球公民基金會</td>\n",
       "      <td>\"【高雄講座】12/4 跨國之鏡—韓國環境運動聯合參訪分享會（吳如媚）\\n</td>\n",
       "      <td>你 知道 東亞 最大 的 環境 組織 是 誰 嗎 ？ 超過 五十個 分支 的 韓國 環境 運...</td>\n",
       "    </tr>\n",
       "    <tr>\n",
       "      <th>2</th>\n",
       "      <td>環保</td>\n",
       "      <td>148513668543221</td>\n",
       "      <td>地球公民基金會</td>\n",
       "      <td>\"【滿口仁義道德、卻一肚子OOXX的農委會！】 \\n</td>\n",
       "      <td>今天 區委 會 的 第次 大會 ， 審議 全國 區域 計畫 修正案 草案 的 環境 敏感區 ...</td>\n",
       "    </tr>\n",
       "    <tr>\n",
       "      <th>3</th>\n",
       "      <td>環保</td>\n",
       "      <td>148513668543221</td>\n",
       "      <td>地球公民基金會</td>\n",
       "      <td>\"【九月農地悲歌！農舍修法轉彎、違章工廠就地合法】\\n</td>\n",
       "      <td>白米 炸彈 客 的 電影 情節 真實 上演 ， 今天 宜蘭縣 部份 農會 與 房地 仲介 相...</td>\n",
       "    </tr>\n",
       "    <tr>\n",
       "      <th>4</th>\n",
       "      <td>環保</td>\n",
       "      <td>148513668543221</td>\n",
       "      <td>地球公民基金會</td>\n",
       "      <td>\"【好山好水好政治—地球公民政治參與原則說明】\\n</td>\n",
       "      <td>政治 ， 對 你 而言 是 什麼 ？ 當你 在 關注 地球 公民 基金會 ， 看見 我們 陸...</td>\n",
       "    </tr>\n",
       "  </tbody>\n",
       "</table>\n",
       "</div>"
      ],
      "text/plain": [
       "  docClass          classID className                               docTitle  \\\n",
       "0       環保  148513668543221   地球公民基金會           \"【12/26 為下一代而走 反空污、抗暖化大遊行】\\n   \n",
       "1       環保  148513668543221   地球公民基金會  \"【高雄講座】12/4 跨國之鏡—韓國環境運動聯合參訪分享會（吳如媚）\\n   \n",
       "2       環保  148513668543221   地球公民基金會             \"【滿口仁義道德、卻一肚子OOXX的農委會！】 \\n   \n",
       "3       環保  148513668543221   地球公民基金會            \"【九月農地悲歌！農舍修法轉彎、違章工廠就地合法】\\n   \n",
       "4       環保  148513668543221   地球公民基金會              \"【好山好水好政治—地球公民政治參與原則說明】\\n   \n",
       "\n",
       "                                                docs  \n",
       "0  今天 早上 ， 我們 與 台灣 健康 空氣 行動 聯盟 的 夥伴 一起 到 總統府 前開 記...  \n",
       "1  你 知道 東亞 最大 的 環境 組織 是 誰 嗎 ？ 超過 五十個 分支 的 韓國 環境 運...  \n",
       "2  今天 區委 會 的 第次 大會 ， 審議 全國 區域 計畫 修正案 草案 的 環境 敏感區 ...  \n",
       "3  白米 炸彈 客 的 電影 情節 真實 上演 ， 今天 宜蘭縣 部份 農會 與 房地 仲介 相...  \n",
       "4  政治 ， 對 你 而言 是 什麼 ？ 當你 在 關注 地球 公民 基金會 ， 看見 我們 陸...  "
      ]
     },
     "execution_count": 4,
     "metadata": {},
     "output_type": "execute_result"
    }
   ],
   "source": [
    ":\n",
    "import csv\n",
    "filepath = \"store_data.csv\" \n",
    "with open(filepath, 'r') as csvfile: \n",
    "    reader = csv.reader(csvfile) \n",
    "    data = [] \n",
    "    for line in reader: \n",
    "        data.append(line)\n",
    "print(data)"
   ]
  },
  {
   "cell_type": "code",
   "execution_count": 5,
   "metadata": {},
   "outputs": [
    {
     "data": {
      "text/html": [
       "<div>\n",
       "<style scoped>\n",
       "    .dataframe tbody tr th:only-of-type {\n",
       "        vertical-align: middle;\n",
       "    }\n",
       "\n",
       "    .dataframe tbody tr th {\n",
       "        vertical-align: top;\n",
       "    }\n",
       "\n",
       "    .dataframe thead th {\n",
       "        text-align: right;\n",
       "    }\n",
       "</style>\n",
       "<table border=\"1\" class=\"dataframe\">\n",
       "  <thead>\n",
       "    <tr style=\"text-align: right;\">\n",
       "      <th></th>\n",
       "      <th>docClass</th>\n",
       "      <th>className</th>\n",
       "      <th>docs</th>\n",
       "    </tr>\n",
       "  </thead>\n",
       "  <tbody>\n",
       "    <tr>\n",
       "      <th>0</th>\n",
       "      <td>動物</td>\n",
       "      <td>\"HOTAC</td>\n",
       "      <td>非常 直白 ， 非常 感慨 ， 也 讓 人 有 更深 的 省思 更 多 的 卻是 對 制度 ...</td>\n",
       "    </tr>\n",
       "    <tr>\n",
       "      <th>1</th>\n",
       "      <td>動物</td>\n",
       "      <td>\"愛貓協會(NGO</td>\n",
       "      <td>敬請 轉貼 歡迎 參觀 暫停 送養會 一次 ， 洽談 認養 及 預約 一般 日 晚上 時間 ...</td>\n",
       "    </tr>\n",
       "    <tr>\n",
       "      <th>2</th>\n",
       "      <td>動物</td>\n",
       "      <td>APA中華民國保護動物協會</td>\n",
       "      <td>關心 流浪 動物 的 朋友 們 ， 最 擔心 的 就是 汪 喵 棄養 的 問題 ， 告訴您 ...</td>\n",
       "    </tr>\n",
       "    <tr>\n",
       "      <th>3</th>\n",
       "      <td>動物</td>\n",
       "      <td>Rose的流浪動物花園</td>\n",
       "      <td>這是 一個 悲傷 的 故事 ， 我們 期待 它 有 個 溫暖 的 結局 兩隻 在 實驗室 過...</td>\n",
       "    </tr>\n",
       "    <tr>\n",
       "      <th>4</th>\n",
       "      <td>動物</td>\n",
       "      <td>Taiwan SPCA 台灣防止虐待動物協會</td>\n",
       "      <td>剛才 沒有 看到 李奧納多 紀錄片 的 朋友 可以 到 這邊 線上 觀看 ！ 李奧納多 前往...</td>\n",
       "    </tr>\n",
       "  </tbody>\n",
       "</table>\n",
       "</div>"
      ],
      "text/plain": [
       "  docClass               className  \\\n",
       "0       動物                  \"HOTAC   \n",
       "1       動物               \"愛貓協會(NGO   \n",
       "2       動物           APA中華民國保護動物協會   \n",
       "3       動物             Rose的流浪動物花園   \n",
       "4       動物  Taiwan SPCA 台灣防止虐待動物協會   \n",
       "\n",
       "                                                docs  \n",
       "0  非常 直白 ， 非常 感慨 ， 也 讓 人 有 更深 的 省思 更 多 的 卻是 對 制度 ...  \n",
       "1  敬請 轉貼 歡迎 參觀 暫停 送養會 一次 ， 洽談 認養 及 預約 一般 日 晚上 時間 ...  \n",
       "2  關心 流浪 動物 的 朋友 們 ， 最 擔心 的 就是 汪 喵 棄養 的 問題 ， 告訴您 ...  \n",
       "3  這是 一個 悲傷 的 故事 ， 我們 期待 它 有 個 溫暖 的 結局 兩隻 在 實驗室 過...  \n",
       "4  剛才 沒有 看到 李奧納多 紀錄片 的 朋友 可以 到 這邊 線上 觀看 ！ 李奧納多 前往...  "
      ]
     },
     "execution_count": 5,
     "metadata": {},
     "output_type": "execute_result"
    }
   ],
   "source": [
    "mergeData = allData.groupby(['docClass', 'className'])['docs'].apply(' '.join).reset_index()\n",
    "mergeData.head()"
   ]
  },
  {
   "cell_type": "code",
   "execution_count": null,
   "metadata": {
    "collapsed": true
   },
   "outputs": [],
   "source": []
  }
 ],
 "metadata": {
  "kernelspec": {
   "display_name": "Python 3",
   "language": "python",
   "name": "python3"
  },
  "language_info": {
   "codemirror_mode": {
    "name": "ipython",
    "version": 3
   },
   "file_extension": ".py",
   "mimetype": "text/x-python",
   "name": "python",
   "nbconvert_exporter": "python",
   "pygments_lexer": "ipython3",
   "version": "3.6.2"
  }
 },
 "nbformat": 4,
 "nbformat_minor": 2
}
