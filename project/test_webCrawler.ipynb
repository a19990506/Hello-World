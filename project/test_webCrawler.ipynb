{
 "cells": [
  {
   "cell_type": "markdown",
   "metadata": {},
   "source": [
    "先載selenium 和 chromedriver"
   ]
  },
  {
   "cell_type": "markdown",
   "metadata": {},
   "source": [
    "有用參考網站:"
   ]
  },
  {
   "cell_type": "markdown",
   "metadata": {},
   "source": [
    "https://wangxin1248.github.io/python/2018/09/python3-spider-8.html"
   ]
  },
  {
   "cell_type": "markdown",
   "metadata": {},
   "source": [
    "https://huilansame.github.io/huilansame.github.io/archivers/sleep-implicitlywait-wait"
   ]
  },
  {
   "cell_type": "code",
   "execution_count": 1,
   "metadata": {
    "collapsed": true
   },
   "outputs": [],
   "source": [
    "import selenium.webdriver.support.ui as ui\n",
    "from time import sleep\n",
    "from selenium import webdriver\n",
    "from selenium.webdriver.common.keys import Keys\n",
    "from selenium.webdriver.support import expected_conditions as EC\n",
    "from selenium.webdriver.common.by import By\n",
    "import csv"
   ]
  },
  {
   "cell_type": "code",
   "execution_count": 16,
   "metadata": {
    "collapsed": true
   },
   "outputs": [],
   "source": [
    "# class GoogleJob:\n",
    "#     \"\"\" Wraps job title, location, minimum/preferred qualifications and responsibilities \"\"\"\n",
    "#     def __init__(title, location, minimum_qual, preferred_qual, responsibilities):\n",
    "#         self.title = title\n",
    "#         self.location = location\n",
    "#         self.minimum_qual = minimum_qual\n",
    "#         self.preferred_qual = preferred_qual\n",
    "#         self.responsibilities = responsibilities"
   ]
  },
  {
   "cell_type": "code",
   "execution_count": 2,
   "metadata": {
    "collapsed": true
   },
   "outputs": [],
   "source": [
    "def _extract(class_name: str):\n",
    "    \"\"\" Extracts the specified element by class name \"\"\"\n",
    "    return driver.find_element_by_class_name(class_name).text"
   ]
  },
  {
   "cell_type": "code",
   "execution_count": 23,
   "metadata": {
    "collapsed": true
   },
   "outputs": [],
   "source": [
    "# def scrape_url(url: str, wait: ui.WebDriverWait):\n",
    "#     \"\"\" Scrape the job info from the specified Url. A broswer driver MUST be initialized beforehand.\n",
    "#     :param url: the url of a detailed google job page.\n",
    "#     :param wait: contains timeout.\n",
    "#     :return: a GoogleJob object.\n",
    "#     \"\"\"\n",
    "#     driver.get(url)\n",
    "#     # Wait until all required elements are generated.\n",
    "#     wait.until(lambda driver:EC.presence_of_element_located((By.CLASS_NAME, 'gc-card__title')))\n",
    "#     wait.until(lambda driver:EC.presence_of_element_located((By.CLASS_NAME, 'gc-job-tags__location')))\n",
    "#     wait.until(lambda driver:EC.presence_of_element_located((By.CLASS_NAME, 'gc-job-detail__section--qualifications')))\n",
    "#     wait.until(lambda driver:EC.presence_of_element_located((By.CLASS_NAME, 'gc-job-detail__section--responsibilities')))\n",
    "#     try:\n",
    "#         sleep(1)\n",
    "#         # Extract job information.\n",
    "#         title = _extract('gc-card__title')\n",
    "#         location = _extract('gc-job-tags__location')\n",
    "#         qualifications = _extract('gc-job-detail__section--qualifications').split('\\n\\n')\n",
    "#         minimum_qual = qualifications[0].replace('Minimum qualifications:\\n', '').replace('Qualifications\\n', '', 1)\n",
    "#         preferred_qual = qualifications[1].replace('Preferred qualifications:\\n', '') if len(qualifications) > 1 else ''\n",
    "#         responsibilities = _extract('gc-job-detail__section--responsibilities').replace('Responsibilities\\n', '', 1)\n",
    "#         return GoogleJob(title, location, minimum_qual, preferred_qual, responsibilities)\n",
    "#     except:\n",
    "#         print('nooooooooooooo')\n",
    "#         return \"\""
   ]
  },
  {
   "cell_type": "code",
   "execution_count": 3,
   "metadata": {
    "collapsed": true
   },
   "outputs": [],
   "source": [
    "def scrape_job(url: str, wait: ui.WebDriverWait):\n",
    "    \"\"\" Scrape the job info from the specified Url. A broswer driver MUST be initialized beforehand.\n",
    "    :param url: the url of a detailed google job page.\n",
    "    :param wait: contains timeout.\n",
    "    :return: a dict wrapping all info.\n",
    "    \"\"\"\n",
    "    driver.get(url)\n",
    "    \n",
    "    # Wait until all required elements are generated.\n",
    "    \n",
    "    wait.until(lambda driver:EC.presence_of_element_located((By.CLASS_NAME, 'gc-card__title')))\n",
    "    wait.until(lambda driver:EC.presence_of_element_located((By.CLASS_NAME, 'gc-job-tags__location')))\n",
    "    wait.until(lambda driver:EC.presence_of_element_located((By.CLASS_NAME, 'gc-job-detail__section--qualifications')))\n",
    "    wait.until(lambda driver:EC.presence_of_element_located((By.CLASS_NAME, 'gc-job-detail__section--responsibilities')))\n",
    "    \n",
    "    try:\n",
    "        sleep(2)\n",
    "    # Extract job information.\n",
    "        title = _extract('gc-card__title')\n",
    "        location = _extract('gc-job-tags__location')\n",
    "        qualifications = _extract('gc-job-detail__section--qualifications').split('\\n\\n')\n",
    "        minimum_qual = qualifications[0].replace('Minimum qualifications:\\n', '').replace('Qualifications\\n', '', 1)\n",
    "        preferred_qual = qualifications[1].replace('Preferred qualifications:\\n', '') if len(qualifications) > 1 else ''\n",
    "        responsibilities = _extract('gc-job-detail__section--responsibilities').replace('Responsibilities\\n', '', 1)\n",
    "        return {\n",
    "        'title': title,\n",
    "        'location': location,\n",
    "        'minimum_qual': minimum_qual,\n",
    "        'preferred_qual': preferred_qual,\n",
    "        'responsibilities': responsibilities\n",
    "        }\n",
    "    except:\n",
    "        return None\n",
    "    \n",
    "    "
   ]
  },
  {
   "cell_type": "code",
   "execution_count": 4,
   "metadata": {
    "collapsed": true
   },
   "outputs": [],
   "source": [
    "# driver = webdriver.Chrome('chromedriver.exe')\n",
    "# driver.get('https://careers.google.com/jobs/results/?company=Google&company=YouTube&employment_type=FULL_TIME&hl=en_US&jlo=en_US&q=&sort_by=relevance');\n",
    "# driver.find_element_by_name('q').send_keys('software')\n",
    "# driver.find_element_by_name('q').send_keys(Keys.RETURN)\n",
    "# driver.implicitly_wait(10) \n",
    "# # print(driver.page_source)  # 顯示全部html\n",
    "# wait = ui.WebDriverWait(driver,20, 0.5)\n",
    "# arr = []\n",
    "\n",
    "# while True:\n",
    "#     try:\n",
    "#         sleep(2)\n",
    "#         wait.until(lambda driver:EC.presence_of_element_located((By.ID,\"search-results\")))\n",
    "#         element = driver.find_element_by_id(\"search-results\")\n",
    "#         wait.until(lambda driver: EC.presence_of_element_located((By.XPATH,\"//a[@data-gtm-ref='job-results-card']\")))\n",
    "#         ans =  element.find_elements_by_xpath(\"//a[@data-gtm-ref='job-results-card']\")\n",
    "#         for a in range(0,len(ans),1):\n",
    "#             arr.append(ans[a].get_attribute('href'))\n",
    "        \n",
    "#         test = wait.until(EC.presence_of_element_located((By.XPATH, \"//a[@data-gtm-ref='search-results-next-click']\")))\n",
    "#         driver.find_element_by_xpath(\"//a[@data-gtm-ref='search-results-next-click']\").send_keys(Keys.RETURN)\n",
    "#     except:\n",
    "#         break\n",
    "    "
   ]
  },
  {
   "cell_type": "code",
   "execution_count": 5,
   "metadata": {
    "collapsed": true
   },
   "outputs": [],
   "source": [
    "driver = webdriver.Chrome('chromedriver.exe')\n",
    "driver.get('https://careers.google.com/jobs/results/?company=Google&company=YouTube&employment_type=FULL_TIME&hl=en_US&jlo=en_US&q=&sort_by=relevance');\n",
    "driver.find_element_by_name('q').send_keys('software')\n",
    "driver.find_element_by_name('q').send_keys(Keys.RETURN)\n",
    "driver.implicitly_wait(10) \n",
    "# print(driver.page_source)  # 顯示全部html\n",
    "wait = ui.WebDriverWait(driver,20, 0.5)\n",
    "arr = []\n",
    "\n",
    "sleep(2)\n",
    "wait.until(lambda driver:EC.presence_of_element_located((By.ID,\"search-results\")))\n",
    "element = driver.find_element_by_id(\"search-results\")\n",
    "wait.until(lambda driver: EC.presence_of_element_located((By.XPATH,\"//a[@data-gtm-ref='job-results-card']\")))\n",
    "ans =  element.find_elements_by_xpath(\"//a[@data-gtm-ref='job-results-card']\")\n",
    "for a in range(0,10,1):\n",
    "    arr.append(ans[a].get_attribute('href'))\n"
   ]
  },
  {
   "cell_type": "code",
   "execution_count": 5,
   "metadata": {},
   "outputs": [
    {
     "name": "stdout",
     "output_type": "stream",
     "text": [
      "1\n",
      "2\n",
      "3\n",
      "4\n",
      "5\n",
      "6\n",
      "7\n",
      "8\n",
      "9\n",
      "10\n",
      "11\n"
     ]
    }
   ],
   "source": [
    "driver = webdriver.Chrome('chromedriver.exe')\n",
    "jobs = []\n",
    "for url in arr:\n",
    "    data = scrape_job(url, wait)\n",
    "    if data !=\"\":\n",
    "        jobs.append(data)\n",
    "        print(len(jobs))\n",
    "    if len(jobs)>10:\n",
    "        break\n",
    "driver.quit()"
   ]
  },
  {
   "cell_type": "code",
   "execution_count": 6,
   "metadata": {},
   "outputs": [
    {
     "data": {
      "text/plain": [
       "[{'location': 'Pittsburgh, PA, USA',\n",
       "  'minimum_qual': 'BA/BS degree or equivalent practical experience.\\n1 year of work experience in software development.\\nExperience with server-side web frameworks such as JSP or ASP.Net.\\nDevelopment experience in C, C++ or Java and experience designing modular, object-oriented JavaScript.',\n",
       "  'preferred_qual': '4 years of relevant work experience, including web application experience or skills using AJAX, HTML, CSS or JavaScript.\\nProgramming experience in GWT.\\nExperience with user interface frameworks such as XUL, Flex, AJAX, and XAML.\\nKnowledge of user interface design.',\n",
       "  'responsibilities': \"Build next-generation web applications with a focus on the client side.\\nRedesign UI's, Implement new UI's, and pick up Java as necessary.\\nEngage with back-end systems.\",\n",
       "  'title': 'Front End Software Engineer'},\n",
       " {'location': 'Pittsburgh, PA, USA',\n",
       "  'minimum_qual': 'BS degree in Electrical Engineering or Computer Science or related technical field or equivalent practical experience.\\n3 years of hands-on experience working with Object-Oriented Programming in JavaScript.\\nExperience working with JavaScript, HTML and CSS (for Web Player SDKS).\\nExperience in web application development, developing large software systems.',\n",
       "  'preferred_qual': 'MS degree in Electrical Engineering or Computer Science or related technical field or equivalent practical experience.\\n3 years of relevant work experience, and relevant industry experience. Experience with establishing communication between JavaScript modules and web views.\\nUnderstanding of event models, and object oriented plugin and module development.\\nUnderstanding of core computer science disciplines (data structures, algorithms, etc.) and Object Oriented Programming skills.\\nKnowledge of Linux development environment and open source tools/platforms. Familiarity with HTML5 video, MSE, and HTLM5 Shaka Player.',\n",
       "  'responsibilities': 'Design, implement and launch complex HTML5 video player (Web/OTT) for cloud video services and extend it with new, ground-breaking features from the planning stage through execution to product launch.\\nMaintain existing SDKs, add plugins to manage video ads and analytics, manage social widgets and control user experience.\\nDocument activities from design to completion and participate in testing of projects.\\nWrite efficient, reusable and stable code for complex application logic.\\nUse automated testing systems to ensure the perfect user experience at all stages.',\n",
       "  'title': 'Front End Software Engineer'},\n",
       " {'location': 'Pittsburgh, PA, USA',\n",
       "  'minimum_qual': 'BA/BS in Computer Science or related technical field or equivalent practical experience.\\nExperience with AJAX, HTML and CSS.\\nExperience with JavaScript, C++, or Python.\\nWeb application development experience.',\n",
       "  'preferred_qual': 'Experience with one or more general purpose programming languages including but not limited to: Java, C/C++, C#, Objective C, Python, JavaScript, or Go.\\nExperience developing or designing large software systems.\\nExperience in GWT and Flash.\\nUnderstanding of the principles of accessibility and ability to build products that are accessible to users with disabilities.\\nStrong written and verbal communication skills, with the ability to create strong working relationships with cross-functional teams.',\n",
       "  'responsibilities': 'Design, implement and launch highly-visible, partner and end user-facing features.\\nDevelop new ways for YouTube partners to manage and monetize content.\\nDesign and develop large scale web applications.',\n",
       "  'title': 'Front End Software Engineer'},\n",
       " {'location': 'Pittsburgh, PA, USA',\n",
       "  'minimum_qual': \"Bachelor's degree in Computer Science, Electrical Engineering, related technical field, or equivalent practical experience.\\nExperience in C/C++ programming.\\nExperience with Unix/Linux environments and the development of Linux device drivers.\",\n",
       "  'preferred_qual': 'Experience working with hardware designers/reading schematics.\\nExperience with ARM and/or other low-power SoC architectures.\\nExperience with Wi-Fi, Ethernet and other networking protocols.\\nExperience with scope and logic analyzers.\\nKnowledge of bus protocols such as I2C, SPI, UART, and SDIO.\\nExcellent technical documentation and communication skills.',\n",
       "  'responsibilities': 'Develop the whole software stack for consumer hardware devices.',\n",
       "  'title': 'Front End Software Engineer'},\n",
       " {'location': 'Pittsburgh, PA, USA',\n",
       "  'minimum_qual': \"Bachelor's degree in a technical field, or equivalent practical experience.\\n3 years of Android application development experience.\\nProgramming experience in C, C++ or Java.\\nExperience with server-side web frameworks such as JSP or ASP.Net.\",\n",
       "  'preferred_qual': 'Development experience in designing modular, object-oriented JavaScript.\\nExperience with user interface frameworks such as XUL, Flex and XAML.\\nExperience with HTML, JavaScript, CSS and GWT.\\nKnowledge of user interface design.',\n",
       "  'responsibilities': \"Build next-generation web applications with a focus on the client side.\\nRedesign UI's, Implement new UI's, and pick up Java as necessary.\\nEngage with back-end systems.\",\n",
       "  'title': 'Front End Software Engineer'},\n",
       " {'location': 'Pittsburgh, PA, USA',\n",
       "  'minimum_qual': \"Master's degree in Electrical Engineering or Computer Science, or equivalent practical experience.\\n6 years of work experience in development, testing and deployment of wireless communications systems.\\nExperience with C/C++ for Linux systems.\",\n",
       "  'preferred_qual': 'PhD degree.\\nExperience with wireless protocols, networking protocol and related software development.\\nExperience with WiFi/BLE/Zigbee protocol/silicon development.\\nExcellent written and oral communication skills.',\n",
       "  'responsibilities': 'Participate in architecting, developing, testing and deploying complex wireless systems.\\nCategorize and analyze real-world wireless system, develop optimal system configurations and develop new protocols and/or protocol enhancements to achieve best wireless experience for the user.\\nWork closely with both internal and external partners on integration of Google Home software stacks with reference and partner platforms.',\n",
       "  'title': 'Front End Software Engineer'},\n",
       " {'location': 'Pittsburgh, PA, USA',\n",
       "  'minimum_qual': 'BA/BS in Computer Science or related field or equivalent practical experience.\\nExperience in software development in one or more modern programming languages e.g. C++, Java, Python, Go, etc.\\nExperience working with data structures, complexity analysis and software design.\\nExperience working with networking protocols and technologies, including end-to-end packet flow, forwarding and routing.',\n",
       "  'preferred_qual': \"Master's degree or PhD in Computer Science or related technical field, or equivalent practical experience.\\nExperience writing networking software using Go.\\nExperience in enterprise network operations, with a systematic approach to troubleshooting.\\nExperience in designing, analyzing and troubleshooting large-scale distributed systems.\\nKnowledge of the Linux networking stack e.g. TCP congestion control, routing, name resolution, etc.\",\n",
       "  'responsibilities': 'Engage in and improve the lifecycle of services—from inception and design, through deployment, operation and refinement.\\nBuild reusable designs and systems that promote scale, reliability, security and efficiency.\\nSupport the software and systems that manage the network, and function as technical, engineering and operational subject matter expert.\\nWork with partner teams to build/re-use open source or common Google systems wherever possible to accelerate development and delivery of the platform.\\nParticipate in on call schedule with other members of the team providing third-tier support, and solving complex issues.',\n",
       "  'title': 'Front End Software Engineer'},\n",
       " {'location': 'Pittsburgh, PA, USA',\n",
       "  'minimum_qual': 'BS degree in Computer Science, similar technical field of study or equivalent practical experience\\n5 years of software development experience in Java, C++, C#, or Golang\\nExperience in designing and developing large scale distributed systems, API, workflow, concurrency, multithreading and synchronization\\nExperience in developing Windows Agent software and/or SQL Server features and in designing, implementing, and running SaaS on SQL Server and Windows environment',\n",
       "  'preferred_qual': '10 years of relevant work experience in software development\\nExperience in building infrastructure as service (IasS), platform as a service (PaaS), etc.\\nExperience in running SQL Server and/or Window production environment for SaaS\\nExperience in building cloud-based Database or Storage services',\n",
       "  'responsibilities': \"Work alongside the Technical Lead to drive long-term technical direction\\nOwn and drive the design and implementation of major components\\nHelp to influence and shape the team's culture and process\\nPartner with Product Managers to define product direction\\nCollaborate with other GCP teams to drive alignments. Grow and mentor other engineers.\",\n",
       "  'title': 'Front End Software Engineer'},\n",
       " {'location': 'Pittsburgh, PA, USA',\n",
       "  'minimum_qual': \"Bachelor's degree in Computer Science, a related technical field of study or equivalent practical experience.\\nSoftware development experience in general purpose programming languages.\\nExperience working with two or more from the following: web application development, Unix/Linux environments, mobile application development, distributed and parallel systems, machine learning, information retrieval, natural language processing, networking, developing software systems and/or security software development.\\nAbility to speak and write in English fluently and idiomatically.\",\n",
       "  'preferred_qual': 'Master’s degree.\\nExperience with Unix/Linux open source developments and communities for kernel/device drivers.\\nExperience with one or more general purpose programming languages: Java, C/C++, C#, Objective C, Python, JavaScript, Go, etc.\\nInterest and ability to learn other coding languages as needed.',\n",
       "  'responsibilities': 'Design, develop, test, deploy, maintain and improve software.\\nManage individual project priorities, deadlines and deliverables.',\n",
       "  'title': 'Front End Software Engineer'},\n",
       " {'location': 'Pittsburgh, PA, USA',\n",
       "  'minimum_qual': \"Bachelor's degree in Computer Science, similar technical field of study or equivalent practical experience.\\nSoftware development experience in one or more general purpose programming languages.\\nExperience working with two or more from the following: web application development, Unix/Linux environments, mobile application development, distributed and parallel systems, machine learning, information retrieval, natural language processing, networking, developing large software systems, and/or security software development.\",\n",
       "  'preferred_qual': 'Master’s degree or PhD in Engineering, Computer Science or other technical related field.\\nExperience with one or more general purpose programming languages including but not limited to: C++, Java, C and Python.\\nExperience in a wide variety of projects utilizing natural language processing, artificial intelligence, data compression, machine learning and search technologies.\\nExcellent written and verbal communication skills.',\n",
       "  'responsibilities': \"Design, develop, test, deploy, maintain and improve software.\\nManage individual project priorities, deadlines and deliverables.\\nWork closely with product management team to ensure we're building the best products.\",\n",
       "  'title': 'Front End Software Engineer'},\n",
       " {'location': 'Pittsburgh, PA, USA',\n",
       "  'minimum_qual': 'BA/BS degree in Computer Science, Computer Engineering or relevant technical field or equivalent practical experience\\n1 year of relevant work experience.\\nDevelopment experience within embedded systems/firmware design.\\nExperience coding in C/C++',\n",
       "  'preferred_qual': 'MS or PhD degree in Computer Science, Computer Engineering, Electrical Engineering or related field\\nExperience with audio and video processing or DSP, including but not limited to AV synchronization, Open GL/CL, codecs, AV/Media, or speech/audio recognition and synthesis.\\nKnowledge of Unix/Linux environments and kernel development.\\nKnowledge of one or more of the following: Microcontrollers, SoC, device drivers, hardware bringup, power management, ARM processors, performance optimization, file systems, bootloading, firmware, x86 assembly, system BIOS or hardware/software integration.',\n",
       "  'responsibilities': 'Design, develop, test, deploy, maintain and improve software.\\nManage individual project priorities, deadlines and deliverables.',\n",
       "  'title': 'Front End Software Engineer'}]"
      ]
     },
     "execution_count": 6,
     "metadata": {},
     "output_type": "execute_result"
    }
   ],
   "source": [
    "jobs"
   ]
  },
  {
   "cell_type": "code",
   "execution_count": 72,
   "metadata": {},
   "outputs": [
    {
     "name": "stdout",
     "output_type": "stream",
     "text": [
      "File written: google_jobs.csv\n"
     ]
    }
   ],
   "source": [
    "csv_file = 'google_jobs.csv'\n",
    "\n",
    "with open(csv_file, 'w',newline='') as f:\n",
    "    w = csv.DictWriter(f, vars(jobs[0]).keys())\n",
    "    w.writeheader()\n",
    "    \n",
    "    for job in jobs:\n",
    "        w.writerow(vars(job))\n",
    "    \n",
    "print('File written: ' + csv_file)"
   ]
  },
  {
   "cell_type": "code",
   "execution_count": null,
   "metadata": {
    "collapsed": true
   },
   "outputs": [],
   "source": []
  },
  {
   "cell_type": "code",
   "execution_count": null,
   "metadata": {
    "collapsed": true
   },
   "outputs": [],
   "source": []
  }
 ],
 "metadata": {
  "kernelspec": {
   "display_name": "Python 3",
   "language": "python",
   "name": "python3"
  },
  "language_info": {
   "codemirror_mode": {
    "name": "ipython",
    "version": 3
   },
   "file_extension": ".py",
   "mimetype": "text/x-python",
   "name": "python",
   "nbconvert_exporter": "python",
   "pygments_lexer": "ipython3",
   "version": "3.6.2"
  }
 },
 "nbformat": 4,
 "nbformat_minor": 2
}
