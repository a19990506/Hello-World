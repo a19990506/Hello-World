{
 "cells": [
  {
   "cell_type": "markdown",
   "metadata": {},
   "source": [
    "先載selenium 和 chromedriver"
   ]
  },
  {
   "cell_type": "markdown",
   "metadata": {},
   "source": [
    "有用參考網站:"
   ]
  },
  {
   "cell_type": "markdown",
   "metadata": {},
   "source": [
    "https://wangxin1248.github.io/python/2018/09/python3-spider-8.html"
   ]
  },
  {
   "cell_type": "markdown",
   "metadata": {},
   "source": [
    "https://huilansame.github.io/huilansame.github.io/archivers/sleep-implicitlywait-wait"
   ]
  },
  {
   "cell_type": "code",
   "execution_count": 42,
   "metadata": {
    "collapsed": true
   },
   "outputs": [],
   "source": [
    "import selenium.webdriver.support.ui as ui\n",
    "from time import sleep\n",
    "from selenium import webdriver\n",
    "from selenium.webdriver.common.keys import Keys\n",
    "from selenium.webdriver.support import expected_conditions as EC\n",
    "from selenium.webdriver.common.by import By\n",
    "import csv"
   ]
  },
  {
   "cell_type": "code",
   "execution_count": 43,
   "metadata": {
    "collapsed": true
   },
   "outputs": [],
   "source": [
    "class GoogleJob:\n",
    "    \"\"\" Wraps job title, location, minimum/preferred qualifications and responsibilities \"\"\"\n",
    "    def __init__(self, title, location, minimum_qual, preferred_qual, responsibilities):\n",
    "        self.title = titlea\n",
    "        self.location = location\n",
    "        self.minimum_qual = minimum_qual\n",
    "        self.preferred_qual = preferred_qual\n",
    "        self.responsibilities = responsibilities"
   ]
  },
  {
   "cell_type": "code",
   "execution_count": 44,
   "metadata": {
    "collapsed": true
   },
   "outputs": [],
   "source": [
    "def _extract(class_name: str):\n",
    "    \"\"\" Extracts the specified element by class name \"\"\"\n",
    "    return driver.find_element_by_class_name(class_name).text"
   ]
  },
  {
   "cell_type": "code",
   "execution_count": 45,
   "metadata": {
    "collapsed": true
   },
   "outputs": [],
   "source": [
    "def scrape_url(url: str, wait: ui.WebDriverWait):\n",
    "    \"\"\" Scrape the job info from the specified Url. A broswer driver MUST be initialized beforehand.\n",
    "    :param url: the url of a detailed google job page.\n",
    "    :param wait: contains timeout.\n",
    "    :return: a GoogleJob object.\n",
    "    \"\"\"\n",
    "    driver.get(url)\n",
    "    # Wait until all required elements are generated.\n",
    "    wait.until(lambda driver:EC.presence_of_element_located((By.CLASS_NAME, 'gc-card__title')))\n",
    "    wait.until(lambda driver:EC.presence_of_element_located((By.CLASS_NAME, 'gc-job-tags__location')))\n",
    "    wait.until(lambda driver:EC.presence_of_element_located((By.CLASS_NAME, 'gc-job-qualifications')))\n",
    "    wait.until(lambda driver:EC.presence_of_element_located((By.CLASS_NAME, 'gc-job-detail__section--responsibilities')))\n",
    "    try:\n",
    "        sleep(2)\n",
    "        # Extract job information.\n",
    "        title = _extract('gc-card__title')\n",
    "        location = _extract('gc-job-tags__location')\n",
    "        qualifications = _extract('gc-job-qualifications').split('\\n\\n')\n",
    "        minimum_qual = qualifications[0].replace('Minimum qualifications:\\n', '')\n",
    "        preferred_qual = qualifications[1].replace('Preferred qualifications:\\n', '')\n",
    "        responsibilities = _extract('gc-job-detail__section--responsibilities').replace('Responsibilities\\n', '', 1)\n",
    "        return GoogleJob(title, location, minimum_qual, preferred_qual, responsibilities)\n",
    "    except:\n",
    "        print('nooooooooooooo')\n",
    "        return \"\"\n",
    "\n",
    "   \n",
    "    "
   ]
  },
  {
   "cell_type": "code",
   "execution_count": 11,
   "metadata": {
    "collapsed": true
   },
   "outputs": [],
   "source": [
    "# driver = webdriver.Chrome('chromedriver.exe')\n",
    "# driver.get('https://careers.google.com/jobs/results/?company=Google&company=YouTube&employment_type=FULL_TIME&hl=en_US&jlo=en_US&q=&sort_by=relevance');\n",
    "# driver.find_element_by_name('q').send_keys('software')\n",
    "# driver.find_element_by_name('q').send_keys(Keys.RETURN)\n",
    "# driver.implicitly_wait(10) \n",
    "# # print(driver.page_source)  # 顯示全部html\n",
    "# wait = ui.WebDriverWait(driver,20, 0.5)\n",
    "# arr = []\n",
    "\n",
    "# while True:\n",
    "#     try:\n",
    "#         sleep(2)\n",
    "#         wait.until(lambda driver:EC.presence_of_element_located((By.ID,\"search-results\")))\n",
    "#         element = driver.find_element_by_id(\"search-results\")\n",
    "#         wait.until(lambda driver: EC.presence_of_element_located((By.XPATH,\"//a[@data-gtm-ref='job-results-card']\")))\n",
    "#         ans =  element.find_elements_by_xpath(\"//a[@data-gtm-ref='job-results-card']\")\n",
    "#         for a in range(0,len(ans),1):\n",
    "#             arr.append(ans[a].get_attribute('href'))\n",
    "        \n",
    "#         test = wait.until(EC.presence_of_element_located((By.XPATH, \"//a[@data-gtm-ref='search-results-next-click']\")))\n",
    "#         driver.find_element_by_xpath(\"//a[@data-gtm-ref='search-results-next-click']\").send_keys(Keys.RETURN)\n",
    "#     except:\n",
    "#         break\n",
    "    "
   ]
  },
  {
   "cell_type": "code",
   "execution_count": 46,
   "metadata": {
    "collapsed": true
   },
   "outputs": [],
   "source": [
    "driver = webdriver.Chrome('chromedriver.exe')\n",
    "driver.get('https://careers.google.com/jobs/results/?company=Google&company=YouTube&employment_type=FULL_TIME&hl=en_US&jlo=en_US&q=&sort_by=relevance');\n",
    "driver.find_element_by_name('q').send_keys('software')\n",
    "driver.find_element_by_name('q').send_keys(Keys.RETURN)\n",
    "driver.implicitly_wait(10) \n",
    "# print(driver.page_source)  # 顯示全部html\n",
    "wait = ui.WebDriverWait(driver,20, 0.5)\n",
    "arr = []\n",
    "\n",
    "sleep(2)\n",
    "wait.until(lambda driver:EC.presence_of_element_located((By.ID,\"search-results\")))\n",
    "element = driver.find_element_by_id(\"search-results\")\n",
    "wait.until(lambda driver: EC.presence_of_element_located((By.XPATH,\"//a[@data-gtm-ref='job-results-card']\")))\n",
    "ans =  element.find_elements_by_xpath(\"//a[@data-gtm-ref='job-results-card']\")\n",
    "for a in range(0,10,1):\n",
    "    arr.append(ans[a].get_attribute('href'))\n",
    "        "
   ]
  },
  {
   "cell_type": "code",
   "execution_count": 47,
   "metadata": {},
   "outputs": [
    {
     "name": "stdout",
     "output_type": "stream",
     "text": [
      "10\n"
     ]
    }
   ],
   "source": [
    "print(len(arr))"
   ]
  },
  {
   "cell_type": "code",
   "execution_count": 38,
   "metadata": {},
   "outputs": [
    {
     "name": "stdout",
     "output_type": "stream",
     "text": [
      "1\n",
      "2\n",
      "3\n",
      "4\n",
      "5\n",
      "6\n",
      "7\n",
      "8\n",
      "9\n",
      "10\n"
     ]
    }
   ],
   "source": [
    "driver = webdriver.Chrome('chromedriver.exe')\n",
    "jobs = []\n",
    "for url in arr:\n",
    "    data = scrape_url(url, wait)\n",
    "    if data !=\"\":\n",
    "        jobs.append(data)\n",
    "        print(len(jobs))\n",
    "driver.quit()"
   ]
  },
  {
   "cell_type": "code",
   "execution_count": 39,
   "metadata": {},
   "outputs": [
    {
     "data": {
      "text/plain": [
       "{'location': 'Pittsburgh, PA, USA',\n",
       " 'minimum_qual': \"Master's degree in Electrical Engineering or Computer Science, or equivalent practical experience.\\n6 years of work experience in development, testing and deployment of wireless communications systems.\\nExperience with C/C++ for Linux systems.\",\n",
       " 'preferred_qual': 'PhD degree.\\nExperience with wireless protocols, networking protocol and related software development.\\nExperience with WiFi/BLE/Zigbee protocol/silicon development.\\nExcellent written and oral communication skills.',\n",
       " 'responsibilities': 'Participate in architecting, developing, testing and deploying complex wireless systems.\\nCategorize and analyze real-world wireless system, develop optimal system configurations and develop new protocols and/or protocol enhancements to achieve best wireless experience for the user.\\nWork closely with both internal and external partners on integration of Google Home software stacks with reference and partner platforms.',\n",
       " 'titlea': 'Front End Software Engineer'}"
      ]
     },
     "execution_count": 39,
     "metadata": {},
     "output_type": "execute_result"
    }
   ],
   "source": [
    "vars(jobs[5])"
   ]
  },
  {
   "cell_type": "code",
   "execution_count": 48,
   "metadata": {},
   "outputs": [
    {
     "name": "stdout",
     "output_type": "stream",
     "text": [
      "File written: google_jobs.csv\n"
     ]
    }
   ],
   "source": [
    "csv_file = 'google_jobs.csv'\n",
    "\n",
    "with open(csv_file, 'w') as f:\n",
    "    w = csv.DictWriter(f, vars(jobs[0]).keys())\n",
    "    w.writeheader()\n",
    "    \n",
    "    for job in jobs:\n",
    "        w.writerow(vars(job))\n",
    "    \n",
    "print('File written: ' + csv_file)"
   ]
  },
  {
   "cell_type": "code",
   "execution_count": 19,
   "metadata": {},
   "outputs": [
    {
     "ename": "UnicodeDecodeError",
     "evalue": "'utf-8' codec can't decode byte 0xa1 in position 6: invalid start byte",
     "output_type": "error",
     "traceback": [
      "\u001b[1;31m---------------------------------------------------------------------------\u001b[0m",
      "\u001b[1;31mUnicodeDecodeError\u001b[0m                        Traceback (most recent call last)",
      "\u001b[1;32mpandas/_libs/parsers.pyx\u001b[0m in \u001b[0;36mpandas._libs.parsers.TextReader._convert_tokens\u001b[1;34m()\u001b[0m\n",
      "\u001b[1;32mpandas/_libs/parsers.pyx\u001b[0m in \u001b[0;36mpandas._libs.parsers.TextReader._convert_with_dtype\u001b[1;34m()\u001b[0m\n",
      "\u001b[1;32mpandas/_libs/parsers.pyx\u001b[0m in \u001b[0;36mpandas._libs.parsers.TextReader._string_convert\u001b[1;34m()\u001b[0m\n",
      "\u001b[1;32mpandas/_libs/parsers.pyx\u001b[0m in \u001b[0;36mpandas._libs.parsers._string_box_utf8\u001b[1;34m()\u001b[0m\n",
      "\u001b[1;31mUnicodeDecodeError\u001b[0m: 'utf-8' codec can't decode byte 0xa1 in position 6: invalid start byte",
      "\nDuring handling of the above exception, another exception occurred:\n",
      "\u001b[1;31mUnicodeDecodeError\u001b[0m                        Traceback (most recent call last)",
      "\u001b[1;32m<ipython-input-19-a56802bcfe76>\u001b[0m in \u001b[0;36m<module>\u001b[1;34m()\u001b[0m\n\u001b[0;32m      1\u001b[0m \u001b[1;32mimport\u001b[0m \u001b[0mpandas\u001b[0m\u001b[1;33m\u001b[0m\u001b[0m\n\u001b[1;32m----> 2\u001b[1;33m \u001b[0mdat\u001b[0m \u001b[1;33m=\u001b[0m \u001b[0mpandas\u001b[0m\u001b[1;33m.\u001b[0m\u001b[0mread_csv\u001b[0m\u001b[1;33m(\u001b[0m\u001b[0mcsv_file\u001b[0m\u001b[1;33m)\u001b[0m\u001b[1;33m\u001b[0m\u001b[0m\n\u001b[0m\u001b[0;32m      3\u001b[0m \u001b[0mdat\u001b[0m\u001b[1;33m\u001b[0m\u001b[0m\n",
      "\u001b[1;32m~\\Anaconda3\\envs\\test\\lib\\site-packages\\pandas\\io\\parsers.py\u001b[0m in \u001b[0;36mparser_f\u001b[1;34m(filepath_or_buffer, sep, delimiter, header, names, index_col, usecols, squeeze, prefix, mangle_dupe_cols, dtype, engine, converters, true_values, false_values, skipinitialspace, skiprows, nrows, na_values, keep_default_na, na_filter, verbose, skip_blank_lines, parse_dates, infer_datetime_format, keep_date_col, date_parser, dayfirst, iterator, chunksize, compression, thousands, decimal, lineterminator, quotechar, quoting, escapechar, comment, encoding, dialect, tupleize_cols, error_bad_lines, warn_bad_lines, skipfooter, doublequote, delim_whitespace, low_memory, memory_map, float_precision)\u001b[0m\n\u001b[0;32m    676\u001b[0m                     skip_blank_lines=skip_blank_lines)\n\u001b[0;32m    677\u001b[0m \u001b[1;33m\u001b[0m\u001b[0m\n\u001b[1;32m--> 678\u001b[1;33m         \u001b[1;32mreturn\u001b[0m \u001b[0m_read\u001b[0m\u001b[1;33m(\u001b[0m\u001b[0mfilepath_or_buffer\u001b[0m\u001b[1;33m,\u001b[0m \u001b[0mkwds\u001b[0m\u001b[1;33m)\u001b[0m\u001b[1;33m\u001b[0m\u001b[0m\n\u001b[0m\u001b[0;32m    679\u001b[0m \u001b[1;33m\u001b[0m\u001b[0m\n\u001b[0;32m    680\u001b[0m     \u001b[0mparser_f\u001b[0m\u001b[1;33m.\u001b[0m\u001b[0m__name__\u001b[0m \u001b[1;33m=\u001b[0m \u001b[0mname\u001b[0m\u001b[1;33m\u001b[0m\u001b[0m\n",
      "\u001b[1;32m~\\Anaconda3\\envs\\test\\lib\\site-packages\\pandas\\io\\parsers.py\u001b[0m in \u001b[0;36m_read\u001b[1;34m(filepath_or_buffer, kwds)\u001b[0m\n\u001b[0;32m    444\u001b[0m \u001b[1;33m\u001b[0m\u001b[0m\n\u001b[0;32m    445\u001b[0m     \u001b[1;32mtry\u001b[0m\u001b[1;33m:\u001b[0m\u001b[1;33m\u001b[0m\u001b[0m\n\u001b[1;32m--> 446\u001b[1;33m         \u001b[0mdata\u001b[0m \u001b[1;33m=\u001b[0m \u001b[0mparser\u001b[0m\u001b[1;33m.\u001b[0m\u001b[0mread\u001b[0m\u001b[1;33m(\u001b[0m\u001b[0mnrows\u001b[0m\u001b[1;33m)\u001b[0m\u001b[1;33m\u001b[0m\u001b[0m\n\u001b[0m\u001b[0;32m    447\u001b[0m     \u001b[1;32mfinally\u001b[0m\u001b[1;33m:\u001b[0m\u001b[1;33m\u001b[0m\u001b[0m\n\u001b[0;32m    448\u001b[0m         \u001b[0mparser\u001b[0m\u001b[1;33m.\u001b[0m\u001b[0mclose\u001b[0m\u001b[1;33m(\u001b[0m\u001b[1;33m)\u001b[0m\u001b[1;33m\u001b[0m\u001b[0m\n",
      "\u001b[1;32m~\\Anaconda3\\envs\\test\\lib\\site-packages\\pandas\\io\\parsers.py\u001b[0m in \u001b[0;36mread\u001b[1;34m(self, nrows)\u001b[0m\n\u001b[0;32m   1034\u001b[0m                 \u001b[1;32mraise\u001b[0m \u001b[0mValueError\u001b[0m\u001b[1;33m(\u001b[0m\u001b[1;34m'skipfooter not supported for iteration'\u001b[0m\u001b[1;33m)\u001b[0m\u001b[1;33m\u001b[0m\u001b[0m\n\u001b[0;32m   1035\u001b[0m \u001b[1;33m\u001b[0m\u001b[0m\n\u001b[1;32m-> 1036\u001b[1;33m         \u001b[0mret\u001b[0m \u001b[1;33m=\u001b[0m \u001b[0mself\u001b[0m\u001b[1;33m.\u001b[0m\u001b[0m_engine\u001b[0m\u001b[1;33m.\u001b[0m\u001b[0mread\u001b[0m\u001b[1;33m(\u001b[0m\u001b[0mnrows\u001b[0m\u001b[1;33m)\u001b[0m\u001b[1;33m\u001b[0m\u001b[0m\n\u001b[0m\u001b[0;32m   1037\u001b[0m \u001b[1;33m\u001b[0m\u001b[0m\n\u001b[0;32m   1038\u001b[0m         \u001b[1;31m# May alter columns / col_dict\u001b[0m\u001b[1;33m\u001b[0m\u001b[1;33m\u001b[0m\u001b[0m\n",
      "\u001b[1;32m~\\Anaconda3\\envs\\test\\lib\\site-packages\\pandas\\io\\parsers.py\u001b[0m in \u001b[0;36mread\u001b[1;34m(self, nrows)\u001b[0m\n\u001b[0;32m   1846\u001b[0m     \u001b[1;32mdef\u001b[0m \u001b[0mread\u001b[0m\u001b[1;33m(\u001b[0m\u001b[0mself\u001b[0m\u001b[1;33m,\u001b[0m \u001b[0mnrows\u001b[0m\u001b[1;33m=\u001b[0m\u001b[1;32mNone\u001b[0m\u001b[1;33m)\u001b[0m\u001b[1;33m:\u001b[0m\u001b[1;33m\u001b[0m\u001b[0m\n\u001b[0;32m   1847\u001b[0m         \u001b[1;32mtry\u001b[0m\u001b[1;33m:\u001b[0m\u001b[1;33m\u001b[0m\u001b[0m\n\u001b[1;32m-> 1848\u001b[1;33m             \u001b[0mdata\u001b[0m \u001b[1;33m=\u001b[0m \u001b[0mself\u001b[0m\u001b[1;33m.\u001b[0m\u001b[0m_reader\u001b[0m\u001b[1;33m.\u001b[0m\u001b[0mread\u001b[0m\u001b[1;33m(\u001b[0m\u001b[0mnrows\u001b[0m\u001b[1;33m)\u001b[0m\u001b[1;33m\u001b[0m\u001b[0m\n\u001b[0m\u001b[0;32m   1849\u001b[0m         \u001b[1;32mexcept\u001b[0m \u001b[0mStopIteration\u001b[0m\u001b[1;33m:\u001b[0m\u001b[1;33m\u001b[0m\u001b[0m\n\u001b[0;32m   1850\u001b[0m             \u001b[1;32mif\u001b[0m \u001b[0mself\u001b[0m\u001b[1;33m.\u001b[0m\u001b[0m_first_chunk\u001b[0m\u001b[1;33m:\u001b[0m\u001b[1;33m\u001b[0m\u001b[0m\n",
      "\u001b[1;32mpandas/_libs/parsers.pyx\u001b[0m in \u001b[0;36mpandas._libs.parsers.TextReader.read\u001b[1;34m()\u001b[0m\n",
      "\u001b[1;32mpandas/_libs/parsers.pyx\u001b[0m in \u001b[0;36mpandas._libs.parsers.TextReader._read_low_memory\u001b[1;34m()\u001b[0m\n",
      "\u001b[1;32mpandas/_libs/parsers.pyx\u001b[0m in \u001b[0;36mpandas._libs.parsers.TextReader._read_rows\u001b[1;34m()\u001b[0m\n",
      "\u001b[1;32mpandas/_libs/parsers.pyx\u001b[0m in \u001b[0;36mpandas._libs.parsers.TextReader._convert_column_data\u001b[1;34m()\u001b[0m\n",
      "\u001b[1;32mpandas/_libs/parsers.pyx\u001b[0m in \u001b[0;36mpandas._libs.parsers.TextReader._convert_tokens\u001b[1;34m()\u001b[0m\n",
      "\u001b[1;32mpandas/_libs/parsers.pyx\u001b[0m in \u001b[0;36mpandas._libs.parsers.TextReader._convert_with_dtype\u001b[1;34m()\u001b[0m\n",
      "\u001b[1;32mpandas/_libs/parsers.pyx\u001b[0m in \u001b[0;36mpandas._libs.parsers.TextReader._string_convert\u001b[1;34m()\u001b[0m\n",
      "\u001b[1;32mpandas/_libs/parsers.pyx\u001b[0m in \u001b[0;36mpandas._libs.parsers._string_box_utf8\u001b[1;34m()\u001b[0m\n",
      "\u001b[1;31mUnicodeDecodeError\u001b[0m: 'utf-8' codec can't decode byte 0xa1 in position 6: invalid start byte"
     ]
    }
   ],
   "source": [
    "import pandas\n",
    "dat = pandas.read_csv(csv_file)\n",
    "dat"
   ]
  },
  {
   "cell_type": "code",
   "execution_count": null,
   "metadata": {
    "collapsed": true
   },
   "outputs": [],
   "source": []
  }
 ],
 "metadata": {
  "kernelspec": {
   "display_name": "Python 3",
   "language": "python",
   "name": "python3"
  },
  "language_info": {
   "codemirror_mode": {
    "name": "ipython",
    "version": 3
   },
   "file_extension": ".py",
   "mimetype": "text/x-python",
   "name": "python",
   "nbconvert_exporter": "python",
   "pygments_lexer": "ipython3",
   "version": "3.6.2"
  }
 },
 "nbformat": 4,
 "nbformat_minor": 2
}
